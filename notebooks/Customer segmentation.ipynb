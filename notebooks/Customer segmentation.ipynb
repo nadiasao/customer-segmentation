{
 "cells": [
  {
   "cell_type": "markdown",
   "id": "81464718",
   "metadata": {},
   "source": [
    " #### 1. Extracting the data\n",
    " \n",
    " #### 2. Exploring the data\n",
    " \n",
    "    2.1 Checking the missing values\n",
    "    \n",
    "    2.2 Checking the data types\n",
    "\n",
    "    2.3 Investigating the negativ values of quantity\n",
    " #### 3. Analysing the Data\n",
    "\n",
    "    3.1 the top ten most popular geographical locations \n",
    "\n",
    "        a. based of frequency\n",
    "\n",
    "        b. based of quantity\n",
    "       \n",
    "        c. based of total_order_value\n",
    "        \n",
    "    3.2 Seasonality\n",
    "\n",
    "        a. Distribution of invoices per year\n",
    "\n",
    "        b. Distribution of invoices per month\n",
    "\n",
    "        c. Distribution of invoices per weekday\n",
    "\n",
    "        d. Distribution of invoices per daytimes"
   ]
  },
  {
   "cell_type": "markdown",
   "id": "ec2175b9",
   "metadata": {},
   "source": [
    "### 1. Extracting the data"
   ]
  },
  {
   "cell_type": "code",
   "execution_count": 2,
   "id": "5a32659c",
   "metadata": {},
   "outputs": [],
   "source": [
    "import psycopg2\n",
    "import pandas as pd\n",
    "\n",
    "import matplotlib.pyplot as plt\n",
    "import seaborn as sns\n",
    "\n",
    "import boto3\n",
    "from io import StringIO\n",
    "\n",
    "import warnings\n",
    "warnings.filterwarnings(\"ignore\")"
   ]
  },
  {
   "cell_type": "code",
   "execution_count": 3,
   "id": "b4665ce2",
   "metadata": {},
   "outputs": [],
   "source": [
    "import os\n",
    "\n",
    "from dotenv import load_dotenv\n",
    "load_dotenv()  # only for local testing\n",
    "\n",
    "\n",
    "dbname = os.getenv(\"dbname\")\n",
    "host = os.getenv(\"host\")\n",
    "port = os.getenv(\"port\")\n",
    "user = os.getenv(\"user\")\n",
    "password = os.getenv(\"password\")"
   ]
  },
  {
   "cell_type": "code",
   "execution_count": 4,
   "id": "5b5b490d",
   "metadata": {},
   "outputs": [],
   "source": [
    "# defined a Python function that establishes a connection to a Redshift database \n",
    "def connect_to_redshift(dbname, host, port, user, password):\n",
    "    \"\"\"definition to connect to redshift\"\"\"\n",
    "\n",
    "    connect = psycopg2.connect(\n",
    "            dbname=dbname, host=host, port=port, user=user, password=password\n",
    "        )\n",
    "\n",
    "    cursor = connect.cursor()\n",
    "    \n",
    "    print(\"connection to redshift made\")\n",
    "    \n",
    "    return connect, cursor"
   ]
  },
  {
   "cell_type": "code",
   "execution_count": 5,
   "id": "f8a7b3f3",
   "metadata": {},
   "outputs": [
    {
     "name": "stdout",
     "output_type": "stream",
     "text": [
      "connection to redshift made\n"
     ]
    }
   ],
   "source": [
    "# connect to redshift using the definition\n",
    "connect, cursor = connect_to_redshift(dbname, host, port, user, password)"
   ]
  },
  {
   "cell_type": "code",
   "execution_count": 6,
   "id": "f98abf69",
   "metadata": {},
   "outputs": [],
   "source": [
    "# a simple SQL query to select all columns from the table \"online_transactions_cleaned\"\n",
    "query=\"\"\"select *\n",
    "        from bootcamp.online_transactions_cleaned otc\"\"\""
   ]
  },
  {
   "cell_type": "code",
   "execution_count": 7,
   "id": "a355772d",
   "metadata": {},
   "outputs": [],
   "source": [
    "#read the result into a Pandas DataFrame\n",
    "online_transactions_cleaned=pd.read_sql(query,connect)"
   ]
  },
  {
   "cell_type": "code",
   "execution_count": 8,
   "id": "046761b1",
   "metadata": {},
   "outputs": [
    {
     "data": {
      "text/html": [
       "<div>\n",
       "<style scoped>\n",
       "    .dataframe tbody tr th:only-of-type {\n",
       "        vertical-align: middle;\n",
       "    }\n",
       "\n",
       "    .dataframe tbody tr th {\n",
       "        vertical-align: top;\n",
       "    }\n",
       "\n",
       "    .dataframe thead th {\n",
       "        text-align: right;\n",
       "    }\n",
       "</style>\n",
       "<table border=\"1\" class=\"dataframe\">\n",
       "  <thead>\n",
       "    <tr style=\"text-align: right;\">\n",
       "      <th></th>\n",
       "      <th>invoice</th>\n",
       "      <th>stock_code</th>\n",
       "      <th>description</th>\n",
       "      <th>price</th>\n",
       "      <th>quantity</th>\n",
       "      <th>total_order_value</th>\n",
       "      <th>invoice_date</th>\n",
       "      <th>customer_id</th>\n",
       "      <th>country</th>\n",
       "    </tr>\n",
       "  </thead>\n",
       "  <tbody>\n",
       "    <tr>\n",
       "      <th>0</th>\n",
       "      <td>536370</td>\n",
       "      <td>21791</td>\n",
       "      <td>VINTAGE HEADS AND TAILS CARD GAME</td>\n",
       "      <td>1.25</td>\n",
       "      <td>24</td>\n",
       "      <td>30.00</td>\n",
       "      <td>2010-12-01 08:45:00</td>\n",
       "      <td>u12583</td>\n",
       "      <td>France</td>\n",
       "    </tr>\n",
       "    <tr>\n",
       "      <th>1</th>\n",
       "      <td>536385</td>\n",
       "      <td>22783</td>\n",
       "      <td>SET 3 WICKER OVAL BASKETS W LIDS</td>\n",
       "      <td>19.95</td>\n",
       "      <td>1</td>\n",
       "      <td>19.95</td>\n",
       "      <td>2010-12-01 09:56:00</td>\n",
       "      <td>u1742</td>\n",
       "      <td>United Kingdom</td>\n",
       "    </tr>\n",
       "    <tr>\n",
       "      <th>2</th>\n",
       "      <td>536392</td>\n",
       "      <td>22128</td>\n",
       "      <td>PARTY CONES CANDY ASSORTED</td>\n",
       "      <td>1.25</td>\n",
       "      <td>12</td>\n",
       "      <td>15.00</td>\n",
       "      <td>2010-12-01 10:29:00</td>\n",
       "      <td>u13705</td>\n",
       "      <td>United Kingdom</td>\n",
       "    </tr>\n",
       "    <tr>\n",
       "      <th>3</th>\n",
       "      <td>536404</td>\n",
       "      <td>22469</td>\n",
       "      <td>HEART OF WICKER SMALL</td>\n",
       "      <td>1.65</td>\n",
       "      <td>12</td>\n",
       "      <td>19.80</td>\n",
       "      <td>2010-12-01 11:29:00</td>\n",
       "      <td>u16218</td>\n",
       "      <td>United Kingdom</td>\n",
       "    </tr>\n",
       "    <tr>\n",
       "      <th>4</th>\n",
       "      <td>536412</td>\n",
       "      <td>22274</td>\n",
       "      <td>FELTCRAFT DOLL EMILY</td>\n",
       "      <td>2.95</td>\n",
       "      <td>2</td>\n",
       "      <td>5.90</td>\n",
       "      <td>2010-12-01 11:49:00</td>\n",
       "      <td>u1792</td>\n",
       "      <td>United Kingdom</td>\n",
       "    </tr>\n",
       "  </tbody>\n",
       "</table>\n",
       "</div>"
      ],
      "text/plain": [
       "  invoice stock_code                         description  price  quantity   \n",
       "0  536370      21791  VINTAGE HEADS AND TAILS CARD GAME    1.25        24  \\\n",
       "1  536385      22783    SET 3 WICKER OVAL BASKETS W LIDS  19.95         1   \n",
       "2  536392      22128          PARTY CONES CANDY ASSORTED   1.25        12   \n",
       "3  536404      22469               HEART OF WICKER SMALL   1.65        12   \n",
       "4  536412      22274                FELTCRAFT DOLL EMILY   2.95         2   \n",
       "\n",
       "   total_order_value        invoice_date customer_id         country  \n",
       "0              30.00 2010-12-01 08:45:00      u12583          France  \n",
       "1              19.95 2010-12-01 09:56:00       u1742  United Kingdom  \n",
       "2              15.00 2010-12-01 10:29:00      u13705  United Kingdom  \n",
       "3              19.80 2010-12-01 11:29:00      u16218  United Kingdom  \n",
       "4               5.90 2010-12-01 11:49:00       u1792  United Kingdom  "
      ]
     },
     "execution_count": 8,
     "metadata": {},
     "output_type": "execute_result"
    }
   ],
   "source": [
    "# display the first five rows of the data\n",
    "online_transactions_cleaned.head()"
   ]
  },
  {
   "cell_type": "code",
   "execution_count": 9,
   "id": "3135d6c2",
   "metadata": {},
   "outputs": [
    {
     "name": "stdout",
     "output_type": "stream",
     "text": [
      "The number of invoices with a negativ price is:0\n"
     ]
    }
   ],
   "source": [
    "online_transactions_neg_price=online_transactions_cleaned[online_transactions_cleaned['price']<0]\n",
    "print(f\"The number of invoices with a negativ price is:{online_transactions_neg_price.shape[0]}\")"
   ]
  },
  {
   "cell_type": "markdown",
   "id": "ee7a30b1",
   "metadata": {},
   "source": [
    "### 2. Exploring the data"
   ]
  },
  {
   "cell_type": "markdown",
   "id": "faf83b71",
   "metadata": {},
   "source": [
    "#### Some basic informations of the data"
   ]
  },
  {
   "cell_type": "code",
   "execution_count": 28,
   "id": "6a43bc17",
   "metadata": {},
   "outputs": [
    {
     "name": "stdout",
     "output_type": "stream",
     "text": [
      "Number of unique invoices: 21791\n",
      "Number of unique Stock codes: 3679\n",
      "Number of Customers: 4363\n",
      "Number of Geographical Locations: 37\n"
     ]
    }
   ],
   "source": [
    "print(\"Number of unique invoices:\", len(online_transactions_cleaned.invoice.unique()))\n",
    "print(\"Number of unique Stock codes:\", len(online_transactions_cleaned.stock_code.unique()))\n",
    "print(\"Number of Customers:\", len(online_transactions_cleaned.customer_id.unique()))\n",
    "print(\"Number of Geographical Locations:\", len(online_transactions_cleaned.country.unique()))"
   ]
  },
  {
   "cell_type": "code",
   "execution_count": 30,
   "id": "bf290ffa",
   "metadata": {},
   "outputs": [
    {
     "data": {
      "text/html": [
       "<div>\n",
       "<style scoped>\n",
       "    .dataframe tbody tr th:only-of-type {\n",
       "        vertical-align: middle;\n",
       "    }\n",
       "\n",
       "    .dataframe tbody tr th {\n",
       "        vertical-align: top;\n",
       "    }\n",
       "\n",
       "    .dataframe thead th {\n",
       "        text-align: right;\n",
       "    }\n",
       "</style>\n",
       "<table border=\"1\" class=\"dataframe\">\n",
       "  <thead>\n",
       "    <tr style=\"text-align: right;\">\n",
       "      <th></th>\n",
       "      <th>price</th>\n",
       "      <th>quantity</th>\n",
       "      <th>total_order_value</th>\n",
       "      <th>invoice_date</th>\n",
       "    </tr>\n",
       "  </thead>\n",
       "  <tbody>\n",
       "    <tr>\n",
       "      <th>count</th>\n",
       "      <td>391334.000000</td>\n",
       "      <td>391334.000000</td>\n",
       "      <td>391334.000000</td>\n",
       "      <td>391334</td>\n",
       "    </tr>\n",
       "    <tr>\n",
       "      <th>mean</th>\n",
       "      <td>2.920468</td>\n",
       "      <td>13.174199</td>\n",
       "      <td>22.372879</td>\n",
       "      <td>2011-07-10 19:43:29.284907520</td>\n",
       "    </tr>\n",
       "    <tr>\n",
       "      <th>min</th>\n",
       "      <td>0.000000</td>\n",
       "      <td>1.000000</td>\n",
       "      <td>0.000000</td>\n",
       "      <td>2010-12-01 08:26:00</td>\n",
       "    </tr>\n",
       "    <tr>\n",
       "      <th>25%</th>\n",
       "      <td>1.250000</td>\n",
       "      <td>2.000000</td>\n",
       "      <td>4.950000</td>\n",
       "      <td>2011-04-07 11:16:00</td>\n",
       "    </tr>\n",
       "    <tr>\n",
       "      <th>50%</th>\n",
       "      <td>1.950000</td>\n",
       "      <td>6.000000</td>\n",
       "      <td>11.900000</td>\n",
       "      <td>2011-07-31 12:08:00</td>\n",
       "    </tr>\n",
       "    <tr>\n",
       "      <th>75%</th>\n",
       "      <td>3.750000</td>\n",
       "      <td>12.000000</td>\n",
       "      <td>19.800000</td>\n",
       "      <td>2011-10-20 12:57:00</td>\n",
       "    </tr>\n",
       "    <tr>\n",
       "      <th>max</th>\n",
       "      <td>1599.260000</td>\n",
       "      <td>80995.000000</td>\n",
       "      <td>168469.600000</td>\n",
       "      <td>2011-12-09 12:50:00</td>\n",
       "    </tr>\n",
       "    <tr>\n",
       "      <th>std</th>\n",
       "      <td>7.267548</td>\n",
       "      <td>181.871884</td>\n",
       "      <td>310.911086</td>\n",
       "      <td>NaN</td>\n",
       "    </tr>\n",
       "  </tbody>\n",
       "</table>\n",
       "</div>"
      ],
      "text/plain": [
       "               price       quantity  total_order_value   \n",
       "count  391334.000000  391334.000000      391334.000000  \\\n",
       "mean        2.920468      13.174199          22.372879   \n",
       "min         0.000000       1.000000           0.000000   \n",
       "25%         1.250000       2.000000           4.950000   \n",
       "50%         1.950000       6.000000          11.900000   \n",
       "75%         3.750000      12.000000          19.800000   \n",
       "max      1599.260000   80995.000000      168469.600000   \n",
       "std         7.267548     181.871884         310.911086   \n",
       "\n",
       "                        invoice_date  \n",
       "count                         391334  \n",
       "mean   2011-07-10 19:43:29.284907520  \n",
       "min              2010-12-01 08:26:00  \n",
       "25%              2011-04-07 11:16:00  \n",
       "50%              2011-07-31 12:08:00  \n",
       "75%              2011-10-20 12:57:00  \n",
       "max              2011-12-09 12:50:00  \n",
       "std                              NaN  "
      ]
     },
     "execution_count": 30,
     "metadata": {},
     "output_type": "execute_result"
    }
   ],
   "source": [
    "# statistical summary for each numerical column\n",
    "online_transactions_cl.describe()"
   ]
  },
  {
   "cell_type": "markdown",
   "id": "27b7e20f",
   "metadata": {},
   "source": [
    "#### 2.1 Checking the missing values"
   ]
  },
  {
   "cell_type": "code",
   "execution_count": 10,
   "id": "f84572e1",
   "metadata": {},
   "outputs": [
    {
     "data": {
      "text/plain": [
       "invoice              0\n",
       "stock_code           0\n",
       "description          0\n",
       "price                0\n",
       "quantity             0\n",
       "total_order_value    0\n",
       "invoice_date         0\n",
       "customer_id          0\n",
       "country              0\n",
       "dtype: int64"
      ]
     },
     "execution_count": 10,
     "metadata": {},
     "output_type": "execute_result"
    }
   ],
   "source": [
    "# checking for missing values\n",
    "online_transactions_cleaned.isnull().sum()"
   ]
  },
  {
   "cell_type": "markdown",
   "id": "59ca5a3e",
   "metadata": {},
   "source": [
    "#### 2.2 Checking the data types"
   ]
  },
  {
   "cell_type": "code",
   "execution_count": 11,
   "id": "82239025",
   "metadata": {},
   "outputs": [
    {
     "data": {
      "text/plain": [
       "invoice                      object\n",
       "stock_code                   object\n",
       "description                  object\n",
       "price                       float64\n",
       "quantity                      int64\n",
       "total_order_value           float64\n",
       "invoice_date         datetime64[ns]\n",
       "customer_id                  object\n",
       "country                      object\n",
       "dtype: object"
      ]
     },
     "execution_count": 11,
     "metadata": {},
     "output_type": "execute_result"
    }
   ],
   "source": [
    "# checking data types of each column\n",
    "online_transactions_cleaned.dtypes"
   ]
  },
  {
   "cell_type": "markdown",
   "id": "59a760c4",
   "metadata": {},
   "source": [
    "#### 2.3 Investigating the negativ values of quantity"
   ]
  },
  {
   "cell_type": "code",
   "execution_count": 14,
   "id": "93bdb221",
   "metadata": {},
   "outputs": [
    {
     "data": {
      "text/html": [
       "<div>\n",
       "<style scoped>\n",
       "    .dataframe tbody tr th:only-of-type {\n",
       "        vertical-align: middle;\n",
       "    }\n",
       "\n",
       "    .dataframe tbody tr th {\n",
       "        vertical-align: top;\n",
       "    }\n",
       "\n",
       "    .dataframe thead th {\n",
       "        text-align: right;\n",
       "    }\n",
       "</style>\n",
       "<table border=\"1\" class=\"dataframe\">\n",
       "  <thead>\n",
       "    <tr style=\"text-align: right;\">\n",
       "      <th></th>\n",
       "      <th>invoice</th>\n",
       "      <th>stock_code</th>\n",
       "      <th>description</th>\n",
       "      <th>price</th>\n",
       "      <th>quantity</th>\n",
       "      <th>total_order_value</th>\n",
       "      <th>invoice_date</th>\n",
       "      <th>customer_id</th>\n",
       "      <th>country</th>\n",
       "    </tr>\n",
       "  </thead>\n",
       "  <tbody>\n",
       "    <tr>\n",
       "      <th>206</th>\n",
       "      <td>C536850</td>\n",
       "      <td>22186</td>\n",
       "      <td>RED STAR CARD HOLDER</td>\n",
       "      <td>2.55</td>\n",
       "      <td>-48</td>\n",
       "      <td>-122.40</td>\n",
       "      <td>2010-12-03 09:47:00</td>\n",
       "      <td>u14213</td>\n",
       "      <td>United Kingdom</td>\n",
       "    </tr>\n",
       "    <tr>\n",
       "      <th>228</th>\n",
       "      <td>C536815</td>\n",
       "      <td>22178</td>\n",
       "      <td>VICTORIAN GLASS HANGING T-LIGHT</td>\n",
       "      <td>1.25</td>\n",
       "      <td>-1</td>\n",
       "      <td>-1.25</td>\n",
       "      <td>2010-12-02 17:05:00</td>\n",
       "      <td>u14443</td>\n",
       "      <td>United Kingdom</td>\n",
       "    </tr>\n",
       "    <tr>\n",
       "      <th>264</th>\n",
       "      <td>C536850</td>\n",
       "      <td>22591</td>\n",
       "      <td>CARDHOLDER GINGHAM CHRISTMAS TREE</td>\n",
       "      <td>2.55</td>\n",
       "      <td>-50</td>\n",
       "      <td>-127.50</td>\n",
       "      <td>2010-12-03 09:47:00</td>\n",
       "      <td>u14213</td>\n",
       "      <td>United Kingdom</td>\n",
       "    </tr>\n",
       "    <tr>\n",
       "      <th>345</th>\n",
       "      <td>C536625</td>\n",
       "      <td>22839</td>\n",
       "      <td>3 TIER CAKE TIN GREEN AND CREAM</td>\n",
       "      <td>14.95</td>\n",
       "      <td>-2</td>\n",
       "      <td>-29.90</td>\n",
       "      <td>2010-12-02 10:46:00</td>\n",
       "      <td>u14766</td>\n",
       "      <td>United Kingdom</td>\n",
       "    </tr>\n",
       "    <tr>\n",
       "      <th>394</th>\n",
       "      <td>C536807</td>\n",
       "      <td>22778</td>\n",
       "      <td>GLASS BELL JAR SMALL</td>\n",
       "      <td>3.95</td>\n",
       "      <td>-1</td>\n",
       "      <td>-3.95</td>\n",
       "      <td>2010-12-02 16:45:00</td>\n",
       "      <td>u15834</td>\n",
       "      <td>United Kingdom</td>\n",
       "    </tr>\n",
       "  </tbody>\n",
       "</table>\n",
       "</div>"
      ],
      "text/plain": [
       "     invoice stock_code                        description  price  quantity   \n",
       "206  C536850      22186               RED STAR CARD HOLDER   2.55       -48  \\\n",
       "228  C536815      22178    VICTORIAN GLASS HANGING T-LIGHT   1.25        -1   \n",
       "264  C536850      22591  CARDHOLDER GINGHAM CHRISTMAS TREE   2.55       -50   \n",
       "345  C536625      22839    3 TIER CAKE TIN GREEN AND CREAM  14.95        -2   \n",
       "394  C536807      22778               GLASS BELL JAR SMALL   3.95        -1   \n",
       "\n",
       "     total_order_value        invoice_date customer_id         country  \n",
       "206            -122.40 2010-12-03 09:47:00      u14213  United Kingdom  \n",
       "228              -1.25 2010-12-02 17:05:00      u14443  United Kingdom  \n",
       "264            -127.50 2010-12-03 09:47:00      u14213  United Kingdom  \n",
       "345             -29.90 2010-12-02 10:46:00      u14766  United Kingdom  \n",
       "394              -3.95 2010-12-02 16:45:00      u15834  United Kingdom  "
      ]
     },
     "execution_count": 14,
     "metadata": {},
     "output_type": "execute_result"
    }
   ],
   "source": [
    "# Filtering the invoices starting with 'C' \n",
    "online_transactions_c = online_transactions_cleaned[online_transactions_cleaned['invoice'].str.startswith('C', na=False)]\n",
    "online_transactions_c.head()                                                  "
   ]
  },
  {
   "cell_type": "code",
   "execution_count": 15,
   "id": "cf2d9dfa",
   "metadata": {},
   "outputs": [
    {
     "name": "stdout",
     "output_type": "stream",
     "text": [
      "The number of invoices starting with 'C'is: 8507\n"
     ]
    }
   ],
   "source": [
    "# calculat the number of Invoices starting with 'C'\n",
    "print(f\"The number of invoices starting with 'C'is: {online_transactions_c.shape[0]}\")"
   ]
  },
  {
   "cell_type": "code",
   "execution_count": 16,
   "id": "cee0b25f",
   "metadata": {},
   "outputs": [
    {
     "name": "stdout",
     "output_type": "stream",
     "text": [
      "The number of invoices with a negativ quantity is:8507\n"
     ]
    }
   ],
   "source": [
    "# Calculat the number of invoices with a negativ quantity\n",
    "online_transactions_neg=online_transactions_cleaned[online_transactions_cleaned['quantity']<0]\n",
    "print(f\"The number of invoices with a negativ quantity is:{online_transactions_neg.shape[0]}\")"
   ]
  },
  {
   "cell_type": "markdown",
   "id": "b4e68a02",
   "metadata": {},
   "source": [
    "#### the number of invoices with a negativ quantity is equal to the number of Invoices starting with 'C'. That means, that the invoices starting with 'C' have a negativ quantity.this represent returns or cancelled Items.\n",
    "#### In this case, we have to ask a question:\n",
    "#### Are this, befor cancelling, purchased Item with the positiv value of quantity also cancelled?\n",
    "#### we assume, that this invoices have the same numerals as the numerals of cancelled invoices without 'C'.\n",
    "#### Let's check that.."
   ]
  },
  {
   "cell_type": "code",
   "execution_count": 20,
   "id": "65b64ecc",
   "metadata": {},
   "outputs": [
    {
     "name": "stdout",
     "output_type": "stream",
     "text": [
      "The number of invoices with identical numerals to the numerals of cancelled invoices without 'C' is: 0\n"
     ]
    }
   ],
   "source": [
    "online_transactions_cleaned_ex = pd.DataFrame(online_transactions_cleaned)\n",
    "\n",
    "#Extract the numerals from 'invoice' for invoices starting with 'C' \n",
    "online_transactions_cleaned_ex['extracted_number'] = online_transactions_cleaned_ex['invoice'].str.extract('C(\\d+)', expand=False)\n",
    "\n",
    "# Compare the extracted numerals with the 'invoice' numerals and filter matching rows\n",
    "c_plus_same_number_invoices = online_transactions_cleaned_ex[online_transactions_cleaned['extracted_number'] == online_transactions_cleaned_ex['invoice']]\n",
    "\n",
    "print(f\"The number of invoices with identical numerals to the numerals of cancelled invoices without 'C' is: {len(c_plus_same_number_invoices)}\")"
   ]
  },
  {
   "cell_type": "markdown",
   "id": "181b524c",
   "metadata": {},
   "source": [
    "#### If the invoices with a positive value of quantity have the same numerals as the numerals of cancelled invoices without 'C',  we proved, taht this are alredy cancelled.\n",
    "#### If not. We have to find pairs of transactions where the quantity values are equal in magnitude but opposite in sign (e.g., one positive and one negative) for the same customer and stock code.\n",
    "#### Let's try this"
   ]
  },
  {
   "cell_type": "code",
   "execution_count": 21,
   "id": "61726526",
   "metadata": {},
   "outputs": [],
   "source": [
    "# using the groupby function to group the data based on the 'customer_id', 'stock_code',and the absolute value of 'quantity'. \n",
    "# Then, using the filter method to select groups that meet specific conditions:\n",
    "##calculates the absolute value of the quantity attribute and checks if its length is an even \n",
    "##Ensures that the sum of the quantity values is zero.\n",
    "c_pairs =online_transactions_cleaned.groupby([online_transactions_cleaned.customer_id, \n",
    "                                        online_transactions_cleaned.stock_code, \n",
    "                                        online_transactions_cleaned.quantity.abs()])\\\n",
    "                                        .filter(lambda x: (len(x.quantity.abs()) % 2 == 0) and (x.quantity.sum() == 0))"
   ]
  },
  {
   "cell_type": "code",
   "execution_count": 24,
   "id": "7855b21d",
   "metadata": {},
   "outputs": [
    {
     "data": {
      "text/html": [
       "<div>\n",
       "<style scoped>\n",
       "    .dataframe tbody tr th:only-of-type {\n",
       "        vertical-align: middle;\n",
       "    }\n",
       "\n",
       "    .dataframe tbody tr th {\n",
       "        vertical-align: top;\n",
       "    }\n",
       "\n",
       "    .dataframe thead th {\n",
       "        text-align: right;\n",
       "    }\n",
       "</style>\n",
       "<table border=\"1\" class=\"dataframe\">\n",
       "  <thead>\n",
       "    <tr style=\"text-align: right;\">\n",
       "      <th></th>\n",
       "      <th>invoice</th>\n",
       "      <th>stock_code</th>\n",
       "      <th>description</th>\n",
       "      <th>price</th>\n",
       "      <th>quantity</th>\n",
       "      <th>total_order_value</th>\n",
       "      <th>invoice_date</th>\n",
       "      <th>customer_id</th>\n",
       "      <th>country</th>\n",
       "      <th>extracted_number</th>\n",
       "    </tr>\n",
       "  </thead>\n",
       "  <tbody>\n",
       "    <tr>\n",
       "      <th>41767</th>\n",
       "      <td>543253</td>\n",
       "      <td>22655</td>\n",
       "      <td>VINTAGE RED KITCHEN CABINET</td>\n",
       "      <td>295.0</td>\n",
       "      <td>1</td>\n",
       "      <td>295.0</td>\n",
       "      <td>2011-02-04 15:32:00</td>\n",
       "      <td>u14842</td>\n",
       "      <td>United Kingdom</td>\n",
       "      <td>NaN</td>\n",
       "    </tr>\n",
       "    <tr>\n",
       "      <th>117430</th>\n",
       "      <td>C539438</td>\n",
       "      <td>22655</td>\n",
       "      <td>VINTAGE RED KITCHEN CABINET</td>\n",
       "      <td>295.0</td>\n",
       "      <td>-1</td>\n",
       "      <td>-295.0</td>\n",
       "      <td>2010-12-17 15:11:00</td>\n",
       "      <td>u16607</td>\n",
       "      <td>United Kingdom</td>\n",
       "      <td>539438</td>\n",
       "    </tr>\n",
       "    <tr>\n",
       "      <th>19810</th>\n",
       "      <td>539080</td>\n",
       "      <td>22655</td>\n",
       "      <td>VINTAGE RED KITCHEN CABINET</td>\n",
       "      <td>295.0</td>\n",
       "      <td>1</td>\n",
       "      <td>295.0</td>\n",
       "      <td>2010-12-16 08:41:00</td>\n",
       "      <td>u16607</td>\n",
       "      <td>United Kingdom</td>\n",
       "      <td>NaN</td>\n",
       "    </tr>\n",
       "    <tr>\n",
       "      <th>187925</th>\n",
       "      <td>C543632</td>\n",
       "      <td>22655</td>\n",
       "      <td>VINTAGE RED KITCHEN CABINET</td>\n",
       "      <td>295.0</td>\n",
       "      <td>-1</td>\n",
       "      <td>-295.0</td>\n",
       "      <td>2011-02-10 16:22:00</td>\n",
       "      <td>u14842</td>\n",
       "      <td>United Kingdom</td>\n",
       "      <td>543632</td>\n",
       "    </tr>\n",
       "    <tr>\n",
       "      <th>31032</th>\n",
       "      <td>540647</td>\n",
       "      <td>22655</td>\n",
       "      <td>VINTAGE RED KITCHEN CABINET</td>\n",
       "      <td>295.0</td>\n",
       "      <td>1</td>\n",
       "      <td>295.0</td>\n",
       "      <td>2011-01-10 14:57:00</td>\n",
       "      <td>u17406</td>\n",
       "      <td>United Kingdom</td>\n",
       "      <td>NaN</td>\n",
       "    </tr>\n",
       "  </tbody>\n",
       "</table>\n",
       "</div>"
      ],
      "text/plain": [
       "        invoice stock_code                  description  price  quantity   \n",
       "41767    543253      22655  VINTAGE RED KITCHEN CABINET  295.0         1  \\\n",
       "117430  C539438      22655  VINTAGE RED KITCHEN CABINET  295.0        -1   \n",
       "19810    539080      22655  VINTAGE RED KITCHEN CABINET  295.0         1   \n",
       "187925  C543632      22655  VINTAGE RED KITCHEN CABINET  295.0        -1   \n",
       "31032    540647      22655  VINTAGE RED KITCHEN CABINET  295.0         1   \n",
       "\n",
       "        total_order_value        invoice_date customer_id         country   \n",
       "41767               295.0 2011-02-04 15:32:00      u14842  United Kingdom  \\\n",
       "117430             -295.0 2010-12-17 15:11:00      u16607  United Kingdom   \n",
       "19810               295.0 2010-12-16 08:41:00      u16607  United Kingdom   \n",
       "187925             -295.0 2011-02-10 16:22:00      u14842  United Kingdom   \n",
       "31032               295.0 2011-01-10 14:57:00      u17406  United Kingdom   \n",
       "\n",
       "       extracted_number  \n",
       "41767               NaN  \n",
       "117430           539438  \n",
       "19810               NaN  \n",
       "187925           543632  \n",
       "31032               NaN  "
      ]
     },
     "execution_count": 24,
     "metadata": {},
     "output_type": "execute_result"
    }
   ],
   "source": [
    "# display the first five rows of the data\n",
    "c_pairs.sort_values(by='price', ascending= False).head()"
   ]
  },
  {
   "cell_type": "code",
   "execution_count": 25,
   "id": "7c9ac790",
   "metadata": {},
   "outputs": [
    {
     "data": {
      "text/html": [
       "<div>\n",
       "<style scoped>\n",
       "    .dataframe tbody tr th:only-of-type {\n",
       "        vertical-align: middle;\n",
       "    }\n",
       "\n",
       "    .dataframe tbody tr th {\n",
       "        vertical-align: top;\n",
       "    }\n",
       "\n",
       "    .dataframe thead th {\n",
       "        text-align: right;\n",
       "    }\n",
       "</style>\n",
       "<table border=\"1\" class=\"dataframe\">\n",
       "  <thead>\n",
       "    <tr style=\"text-align: right;\">\n",
       "      <th></th>\n",
       "      <th>invoice</th>\n",
       "      <th>stock_code</th>\n",
       "      <th>description</th>\n",
       "      <th>price</th>\n",
       "      <th>quantity</th>\n",
       "      <th>total_order_value</th>\n",
       "      <th>invoice_date</th>\n",
       "      <th>customer_id</th>\n",
       "      <th>country</th>\n",
       "      <th>extracted_number</th>\n",
       "    </tr>\n",
       "  </thead>\n",
       "  <tbody>\n",
       "    <tr>\n",
       "      <th>19810</th>\n",
       "      <td>539080</td>\n",
       "      <td>22655</td>\n",
       "      <td>VINTAGE RED KITCHEN CABINET</td>\n",
       "      <td>295.0</td>\n",
       "      <td>1</td>\n",
       "      <td>295.0</td>\n",
       "      <td>2010-12-16 08:41:00</td>\n",
       "      <td>u16607</td>\n",
       "      <td>United Kingdom</td>\n",
       "      <td>NaN</td>\n",
       "    </tr>\n",
       "    <tr>\n",
       "      <th>117430</th>\n",
       "      <td>C539438</td>\n",
       "      <td>22655</td>\n",
       "      <td>VINTAGE RED KITCHEN CABINET</td>\n",
       "      <td>295.0</td>\n",
       "      <td>-1</td>\n",
       "      <td>-295.0</td>\n",
       "      <td>2010-12-17 15:11:00</td>\n",
       "      <td>u16607</td>\n",
       "      <td>United Kingdom</td>\n",
       "      <td>539438</td>\n",
       "    </tr>\n",
       "  </tbody>\n",
       "</table>\n",
       "</div>"
      ],
      "text/plain": [
       "        invoice stock_code                  description  price  quantity   \n",
       "19810    539080      22655  VINTAGE RED KITCHEN CABINET  295.0         1  \\\n",
       "117430  C539438      22655  VINTAGE RED KITCHEN CABINET  295.0        -1   \n",
       "\n",
       "        total_order_value        invoice_date customer_id         country   \n",
       "19810               295.0 2010-12-16 08:41:00      u16607  United Kingdom  \\\n",
       "117430             -295.0 2010-12-17 15:11:00      u16607  United Kingdom   \n",
       "\n",
       "       extracted_number  \n",
       "19810               NaN  \n",
       "117430           539438  "
      ]
     },
     "execution_count": 25,
     "metadata": {},
     "output_type": "execute_result"
    }
   ],
   "source": [
    "# Display of a example of pairs With the same description,customer_id, country and opposite sign of quantity\n",
    "c_pairs_Vin = c_pairs[(c_pairs['description'] == 'VINTAGE RED KITCHEN CABINET') & (c_pairs['customer_id']=='u16607')]\n",
    "c_pairs_Vin"
   ]
  },
  {
   "cell_type": "code",
   "execution_count": 26,
   "id": "a59116b7",
   "metadata": {},
   "outputs": [
    {
     "data": {
      "text/plain": [
       "4026"
      ]
     },
     "execution_count": 26,
     "metadata": {},
     "output_type": "execute_result"
    }
   ],
   "source": [
    "# The number of pairs\n",
    "c_pairs ['quantity'].count()"
   ]
  },
  {
   "cell_type": "markdown",
   "id": "cbc479c8",
   "metadata": {},
   "source": [
    "#### In order to adopt this assumption, we need more informations. E.g whether the cancelled orders were noted with a different invoice ID.\n",
    "#### For our analysis, only the negative values in the quantity are not taken into account.\n"
   ]
  },
  {
   "cell_type": "code",
   "execution_count": 27,
   "id": "bc1bb20b",
   "metadata": {},
   "outputs": [
    {
     "name": "stdout",
     "output_type": "stream",
     "text": [
      "number of invoices befor filtering invoices with a negativ quantity is:399841\n",
      "number of invoices after filtering invoices with a negativ quantity is:391334\n"
     ]
    }
   ],
   "source": [
    "## Filtering invoices with a negativ value of quantity\n",
    "online_transactions_cl=online_transactions_cleaned[online_transactions_cleaned['quantity']>0]\n",
    "\n",
    "print(f\"number of invoices befor filtering invoices with a negativ quantity is:{len(online_transactions_cleaned)}\")\n",
    "\n",
    "print(f\"number of invoices after filtering invoices with a negativ quantity is:{len(online_transactions_cl)}\")"
   ]
  },
  {
   "cell_type": "markdown",
   "id": "6207070d",
   "metadata": {},
   "source": [
    "### 3. Analysing the Data\n",
    "#### 3.1 the top ten most popular geographical locations \n",
    "##### a. based of frequency"
   ]
  },
  {
   "cell_type": "code",
   "execution_count": 51,
   "id": "be2fc9f4",
   "metadata": {},
   "outputs": [
    {
     "data": {
      "text/plain": [
       "country\n",
       "United Kingdom    348940\n",
       "Germany             8644\n",
       "France              8021\n",
       "EIRE                7226\n",
       "Spain               2418\n",
       "Netherlands         2326\n",
       "Belgium             1935\n",
       "Switzerland         1811\n",
       "Portugal            1416\n",
       "Australia           1183\n",
       "Name: count, dtype: int64"
      ]
     },
     "execution_count": 51,
     "metadata": {},
     "output_type": "execute_result"
    }
   ],
   "source": [
    "# get the count of unique values in the 'country' column \n",
    "online_transactions_cl['country'].value_counts(dropna=False).iloc[0:10]\n",
    "# or\n",
    "# online_transactions_cl.country.value_counts().head(10)"
   ]
  },
  {
   "cell_type": "code",
   "execution_count": 27,
   "id": "164794ee",
   "metadata": {},
   "outputs": [
    {
     "data": {
      "image/png": "[encoded data removed]",
      "text/plain": [
       "<Figure size 640x480 with 1 Axes>"
      ]
     },
     "metadata": {},
     "output_type": "display_data"
    }
   ],
   "source": [
    "# Visualising the results\n",
    "online_transactions_cl.country.value_counts().head(n = 10).plot(kind = 'bar')\n",
    "plt.title(\"Top 10 Geographical Locations based of frequency\")\n",
    "plt.xlabel(\"Country\")\n",
    "plt.ylabel(\"Count\")\n",
    "plt.show();"
   ]
  },
  {
   "cell_type": "markdown",
   "id": "b36b209f",
   "metadata": {},
   "source": [
    "##### b. based of quantity"
   ]
  },
  {
   "cell_type": "code",
   "execution_count": 28,
   "id": "50b2abd1",
   "metadata": {},
   "outputs": [
    {
     "data": {
      "text/plain": [
       "country\n",
       "United Kingdom    4246787\n",
       "Netherlands        200834\n",
       "EIRE               140381\n",
       "Germany            118033\n",
       "France             110597\n",
       "Australia           84198\n",
       "Sweden              36037\n",
       "Switzerland         29981\n",
       "Spain               27735\n",
       "Japan               26016\n",
       "Name: quantity, dtype: int64"
      ]
     },
     "execution_count": 28,
     "metadata": {},
     "output_type": "execute_result"
    }
   ],
   "source": [
    "# group the data by the 'country' column and then calculate the sum of the 'quantity' for each group. \n",
    "online_transactions_cl.groupby ('country')['quantity'].sum().sort_values(ascending=False).head(10)"
   ]
  },
  {
   "cell_type": "code",
   "execution_count": 29,
   "id": "4ad9515a",
   "metadata": {},
   "outputs": [
    {
     "data": {
      "image/png": "[encoded data removed]",
      "text/plain": [
       "<Figure size 640x480 with 1 Axes>"
      ]
     },
     "metadata": {},
     "output_type": "display_data"
    }
   ],
   "source": [
    "# Visualising the results\n",
    "online_transactions_cl.groupby ('country')['quantity'].sum().sort_values(ascending=False).head(10).plot(kind = 'bar')\n",
    "plt.title(\"Top 10 Geographical Locations based on quantity\")\n",
    "plt.xlabel(\"Country\")\n",
    "plt.ylabel(\"Quantity\")\n",
    "plt.show();"
   ]
  },
  {
   "cell_type": "markdown",
   "id": "caf6e130",
   "metadata": {},
   "source": [
    "##### c. based of total_order_value"
   ]
  },
  {
   "cell_type": "code",
   "execution_count": 61,
   "id": "ea8d9b03",
   "metadata": {},
   "outputs": [
    {
     "data": {
      "text/plain": [
       "country\n",
       "United Kingdom    7255684.833\n",
       "Netherlands        283889.340\n",
       "EIRE               261888.120\n",
       "Germany            205381.150\n",
       "France             183987.940\n",
       "Australia          138103.810\n",
       "Spain               55706.560\n",
       "Switzerland         52441.950\n",
       "Japan               37416.370\n",
       "Belgium             36927.340\n",
       "Name: total_order_value, dtype: float64"
      ]
     },
     "execution_count": 61,
     "metadata": {},
     "output_type": "execute_result"
    }
   ],
   "source": [
    "# group the data by the 'country' column and then calculate the sum of the 'total_order_value' for each group. \n",
    "online_transactions_cl.groupby ('country')['total_order_value'].sum().sort_values(ascending=False).head(10)"
   ]
  },
  {
   "cell_type": "code",
   "execution_count": 62,
   "id": "4652055f",
   "metadata": {},
   "outputs": [
    {
     "data": {
      "image/png": "[encoded data removed]",
      "text/plain": [
       "<Figure size 640x480 with 1 Axes>"
      ]
     },
     "metadata": {},
     "output_type": "display_data"
    }
   ],
   "source": [
    "# Visualising the results\n",
    "online_transactions_cl.groupby ('country')['total_order_value'].sum().sort_values(ascending=False).head(10).plot(kind = 'bar')\n",
    "plt.title(\"Top 10 Geographical Locations based on total_order_value\")\n",
    "plt.xlabel(\"Country\")\n",
    "plt.ylabel(\"Quantity\")\n",
    "plt.show();"
   ]
  },
  {
   "cell_type": "markdown",
   "id": "0fc72d7d",
   "metadata": {},
   "source": [
    " Based of frequency or quantity or total_order_value, the United Kingdom is the country where the most sales take place."
   ]
  },
  {
   "cell_type": "markdown",
   "id": "2aca3de2",
   "metadata": {},
   "source": [
    "#### 3.2 Seasonality\n",
    "##### a. Distribution of invoices per year"
   ]
  },
  {
   "cell_type": "code",
   "execution_count": 30,
   "id": "f8e82dde",
   "metadata": {},
   "outputs": [],
   "source": [
    "# Extracting the year von invoice_date\n",
    "online_transactions_cl['invoice_date']=online_transactions_cl['invoice_date'].dt.year"
   ]
  },
  {
   "cell_type": "code",
   "execution_count": 52,
   "id": "f6007b1d",
   "metadata": {},
   "outputs": [
    {
     "data": {
      "text/html": [
       "<div>\n",
       "<style scoped>\n",
       "    .dataframe tbody tr th:only-of-type {\n",
       "        vertical-align: middle;\n",
       "    }\n",
       "\n",
       "    .dataframe tbody tr th {\n",
       "        vertical-align: top;\n",
       "    }\n",
       "\n",
       "    .dataframe thead th {\n",
       "        text-align: right;\n",
       "    }\n",
       "</style>\n",
       "<table border=\"1\" class=\"dataframe\">\n",
       "  <thead>\n",
       "    <tr style=\"text-align: right;\">\n",
       "      <th></th>\n",
       "      <th>invoice</th>\n",
       "      <th>stock_code</th>\n",
       "      <th>description</th>\n",
       "      <th>price</th>\n",
       "      <th>quantity</th>\n",
       "      <th>total_order_value</th>\n",
       "      <th>invoice_date</th>\n",
       "      <th>customer_id</th>\n",
       "      <th>country</th>\n",
       "      <th>extracted_number</th>\n",
       "    </tr>\n",
       "  </thead>\n",
       "  <tbody>\n",
       "    <tr>\n",
       "      <th>0</th>\n",
       "      <td>536384</td>\n",
       "      <td>22189</td>\n",
       "      <td>CREAM HEART CARD HOLDER</td>\n",
       "      <td>3.95</td>\n",
       "      <td>4</td>\n",
       "      <td>15.8</td>\n",
       "      <td>2010</td>\n",
       "      <td>u18074</td>\n",
       "      <td>United Kingdom</td>\n",
       "      <td>NaN</td>\n",
       "    </tr>\n",
       "    <tr>\n",
       "      <th>1</th>\n",
       "      <td>536392</td>\n",
       "      <td>21891</td>\n",
       "      <td>TRADITIONAL WOODEN SKIPPING ROPE</td>\n",
       "      <td>1.25</td>\n",
       "      <td>12</td>\n",
       "      <td>15.0</td>\n",
       "      <td>2010</td>\n",
       "      <td>u13705</td>\n",
       "      <td>United Kingdom</td>\n",
       "      <td>NaN</td>\n",
       "    </tr>\n",
       "    <tr>\n",
       "      <th>2</th>\n",
       "      <td>536401</td>\n",
       "      <td>22068</td>\n",
       "      <td>BLACK PIRATE TREASURE CHEST</td>\n",
       "      <td>1.65</td>\n",
       "      <td>2</td>\n",
       "      <td>3.3</td>\n",
       "      <td>2010</td>\n",
       "      <td>u15862</td>\n",
       "      <td>United Kingdom</td>\n",
       "      <td>NaN</td>\n",
       "    </tr>\n",
       "    <tr>\n",
       "      <th>3</th>\n",
       "      <td>536412</td>\n",
       "      <td>22961</td>\n",
       "      <td>JAM MAKING SET PRINTED</td>\n",
       "      <td>1.45</td>\n",
       "      <td>24</td>\n",
       "      <td>34.8</td>\n",
       "      <td>2010</td>\n",
       "      <td>u1792</td>\n",
       "      <td>United Kingdom</td>\n",
       "      <td>NaN</td>\n",
       "    </tr>\n",
       "    <tr>\n",
       "      <th>4</th>\n",
       "      <td>536420</td>\n",
       "      <td>21889</td>\n",
       "      <td>WOODEN BOX OF DOMINOES</td>\n",
       "      <td>1.25</td>\n",
       "      <td>12</td>\n",
       "      <td>15.0</td>\n",
       "      <td>2010</td>\n",
       "      <td>u16583</td>\n",
       "      <td>United Kingdom</td>\n",
       "      <td>NaN</td>\n",
       "    </tr>\n",
       "  </tbody>\n",
       "</table>\n",
       "</div>"
      ],
      "text/plain": [
       "  invoice stock_code                       description  price  quantity   \n",
       "0  536384      22189           CREAM HEART CARD HOLDER   3.95         4  \\\n",
       "1  536392      21891  TRADITIONAL WOODEN SKIPPING ROPE   1.25        12   \n",
       "2  536401      22068       BLACK PIRATE TREASURE CHEST   1.65         2   \n",
       "3  536412      22961            JAM MAKING SET PRINTED   1.45        24   \n",
       "4  536420      21889            WOODEN BOX OF DOMINOES   1.25        12   \n",
       "\n",
       "   total_order_value  invoice_date customer_id         country   \n",
       "0               15.8          2010      u18074  United Kingdom  \\\n",
       "1               15.0          2010      u13705  United Kingdom   \n",
       "2                3.3          2010      u15862  United Kingdom   \n",
       "3               34.8          2010       u1792  United Kingdom   \n",
       "4               15.0          2010      u16583  United Kingdom   \n",
       "\n",
       "  extracted_number  \n",
       "0              NaN  \n",
       "1              NaN  \n",
       "2              NaN  \n",
       "3              NaN  \n",
       "4              NaN  "
      ]
     },
     "execution_count": 52,
     "metadata": {},
     "output_type": "execute_result"
    }
   ],
   "source": [
    "# display the first five rows of the data\n",
    "online_transactions_cl.head()"
   ]
  },
  {
   "cell_type": "code",
   "execution_count": 32,
   "id": "1912aae7",
   "metadata": {},
   "outputs": [
    {
     "data": {
      "text/html": [
       "<div>\n",
       "<style scoped>\n",
       "    .dataframe tbody tr th:only-of-type {\n",
       "        vertical-align: middle;\n",
       "    }\n",
       "\n",
       "    .dataframe tbody tr th {\n",
       "        vertical-align: top;\n",
       "    }\n",
       "\n",
       "    .dataframe thead th {\n",
       "        text-align: right;\n",
       "    }\n",
       "</style>\n",
       "<table border=\"1\" class=\"dataframe\">\n",
       "  <thead>\n",
       "    <tr style=\"text-align: right;\">\n",
       "      <th></th>\n",
       "      <th>year</th>\n",
       "      <th>invoice</th>\n",
       "    </tr>\n",
       "  </thead>\n",
       "  <tbody>\n",
       "    <tr>\n",
       "      <th>0</th>\n",
       "      <td>2010</td>\n",
       "      <td>25581</td>\n",
       "    </tr>\n",
       "    <tr>\n",
       "      <th>1</th>\n",
       "      <td>2011</td>\n",
       "      <td>365753</td>\n",
       "    </tr>\n",
       "  </tbody>\n",
       "</table>\n",
       "</div>"
      ],
      "text/plain": [
       "   year  invoice\n",
       "0  2010    25581\n",
       "1  2011   365753"
      ]
     },
     "execution_count": 32,
     "metadata": {},
     "output_type": "execute_result"
    }
   ],
   "source": [
    "# grouping the data by the 'invoice_date' column and then counting the number of invoices of each date using the 'invoice' column.\n",
    "invoice_year=online_transactions_cl.groupby('invoice_date')['invoice'].count()\n",
    "# resetting the index of the invoice_year Series and renaming the columns.\n",
    "invoice_year=invoice_year.reset_index().rename(columns={'invoice_date':'year'})\n",
    "invoice_year"
   ]
  },
  {
   "cell_type": "code",
   "execution_count": 33,
   "id": "83cfdf7d",
   "metadata": {},
   "outputs": [
    {
     "data": {
      "text/plain": [
       "<Figure size 1500x800 with 0 Axes>"
      ]
     },
     "metadata": {},
     "output_type": "display_data"
    },
    {
     "data": {
      "image/png": "[encoded data removed]",
      "text/plain": [
       "<Figure size 600x600 with 1 Axes>"
      ]
     },
     "metadata": {},
     "output_type": "display_data"
    }
   ],
   "source": [
    "#Visualising the results\n",
    "import matplotlib.pyplot as plt\n",
    "import seaborn as sns\n",
    "\n",
    "#Create a figure with a specified size\n",
    "fig = plt.figure(figsize = [15, 8]) \n",
    "\n",
    "#create a bar plot \n",
    "sns.catplot(x = 'year', y = 'invoice', data = invoice_year, height=6, kind=\"bar\", palette=\"muted\") \n",
    " \n",
    "#Adds labels\n",
    "plt.xlabel(\"year\") \n",
    "plt.ylabel(\"invoice\")\n",
    "plt.title('distribution of invoices per year') \n",
    "\n",
    "#displays the plot\n",
    "plt.show()"
   ]
  },
  {
   "cell_type": "markdown",
   "id": "f0cf95b9",
   "metadata": {},
   "source": [
    "#### The most sales are in year 2011. therfore just this year will be analysed."
   ]
  },
  {
   "cell_type": "code",
   "execution_count": 34,
   "id": "fd905dd8",
   "metadata": {},
   "outputs": [],
   "source": [
    "# filtering the data where the 'invoice_date' is equal to the year 2011.\n",
    "online_transactions_cl_2011=online_transactions_cl.loc[online_transactions_cl['invoice_date']==2011]"
   ]
  },
  {
   "cell_type": "code",
   "execution_count": 35,
   "id": "3899603e",
   "metadata": {},
   "outputs": [
    {
     "data": {
      "text/html": [
       "<div>\n",
       "<style scoped>\n",
       "    .dataframe tbody tr th:only-of-type {\n",
       "        vertical-align: middle;\n",
       "    }\n",
       "\n",
       "    .dataframe tbody tr th {\n",
       "        vertical-align: top;\n",
       "    }\n",
       "\n",
       "    .dataframe thead th {\n",
       "        text-align: right;\n",
       "    }\n",
       "</style>\n",
       "<table border=\"1\" class=\"dataframe\">\n",
       "  <thead>\n",
       "    <tr style=\"text-align: right;\">\n",
       "      <th></th>\n",
       "      <th>invoice</th>\n",
       "      <th>stock_code</th>\n",
       "      <th>description</th>\n",
       "      <th>price</th>\n",
       "      <th>quantity</th>\n",
       "      <th>total_order_value</th>\n",
       "      <th>invoice_date</th>\n",
       "      <th>customer_id</th>\n",
       "      <th>country</th>\n",
       "      <th>extracted_number</th>\n",
       "    </tr>\n",
       "  </thead>\n",
       "  <tbody>\n",
       "    <tr>\n",
       "      <th>1313</th>\n",
       "      <td>540014</td>\n",
       "      <td>22179</td>\n",
       "      <td>SET 10 NIGHT OWL LIGHTS</td>\n",
       "      <td>6.75</td>\n",
       "      <td>1</td>\n",
       "      <td>6.75</td>\n",
       "      <td>2011</td>\n",
       "      <td>u14606</td>\n",
       "      <td>United Kingdom</td>\n",
       "      <td>NaN</td>\n",
       "    </tr>\n",
       "    <tr>\n",
       "      <th>1314</th>\n",
       "      <td>540023</td>\n",
       "      <td>84406B</td>\n",
       "      <td>CREAM CUPID HEARTS COAT HANGER</td>\n",
       "      <td>3.25</td>\n",
       "      <td>2</td>\n",
       "      <td>6.50</td>\n",
       "      <td>2011</td>\n",
       "      <td>u15039</td>\n",
       "      <td>United Kingdom</td>\n",
       "      <td>NaN</td>\n",
       "    </tr>\n",
       "    <tr>\n",
       "      <th>1315</th>\n",
       "      <td>540033</td>\n",
       "      <td>22692</td>\n",
       "      <td>DOORMAT WELCOME TO OUR HOME</td>\n",
       "      <td>7.95</td>\n",
       "      <td>1</td>\n",
       "      <td>7.95</td>\n",
       "      <td>2011</td>\n",
       "      <td>u1368</td>\n",
       "      <td>United Kingdom</td>\n",
       "      <td>NaN</td>\n",
       "    </tr>\n",
       "    <tr>\n",
       "      <th>1316</th>\n",
       "      <td>540096</td>\n",
       "      <td>22473</td>\n",
       "      <td>TV DINNER TRAY VINTAGE PAISLEY</td>\n",
       "      <td>1.95</td>\n",
       "      <td>16</td>\n",
       "      <td>31.20</td>\n",
       "      <td>2011</td>\n",
       "      <td>u13253</td>\n",
       "      <td>United Kingdom</td>\n",
       "      <td>NaN</td>\n",
       "    </tr>\n",
       "    <tr>\n",
       "      <th>1317</th>\n",
       "      <td>540115</td>\n",
       "      <td>21108</td>\n",
       "      <td>FAIRY CAKE FLANNEL ASSORTED COLOUR</td>\n",
       "      <td>2.55</td>\n",
       "      <td>9</td>\n",
       "      <td>22.95</td>\n",
       "      <td>2011</td>\n",
       "      <td>u15235</td>\n",
       "      <td>United Kingdom</td>\n",
       "      <td>NaN</td>\n",
       "    </tr>\n",
       "  </tbody>\n",
       "</table>\n",
       "</div>"
      ],
      "text/plain": [
       "     invoice stock_code                         description  price  quantity   \n",
       "1313  540014      22179             SET 10 NIGHT OWL LIGHTS   6.75         1  \\\n",
       "1314  540023     84406B      CREAM CUPID HEARTS COAT HANGER   3.25         2   \n",
       "1315  540033      22692         DOORMAT WELCOME TO OUR HOME   7.95         1   \n",
       "1316  540096      22473      TV DINNER TRAY VINTAGE PAISLEY   1.95        16   \n",
       "1317  540115      21108  FAIRY CAKE FLANNEL ASSORTED COLOUR   2.55         9   \n",
       "\n",
       "      total_order_value  invoice_date customer_id         country   \n",
       "1313               6.75          2011      u14606  United Kingdom  \\\n",
       "1314               6.50          2011      u15039  United Kingdom   \n",
       "1315               7.95          2011       u1368  United Kingdom   \n",
       "1316              31.20          2011      u13253  United Kingdom   \n",
       "1317              22.95          2011      u15235  United Kingdom   \n",
       "\n",
       "     extracted_number  \n",
       "1313              NaN  \n",
       "1314              NaN  \n",
       "1315              NaN  \n",
       "1316              NaN  \n",
       "1317              NaN  "
      ]
     },
     "execution_count": 35,
     "metadata": {},
     "output_type": "execute_result"
    }
   ],
   "source": [
    "# display the first five rows of the data\n",
    "online_transactions_cl_2011.head()"
   ]
  },
  {
   "cell_type": "markdown",
   "id": "2971d89b",
   "metadata": {},
   "source": [
    "##### b. Distribution of invoices per month"
   ]
  },
  {
   "cell_type": "code",
   "execution_count": 37,
   "id": "f96ae061",
   "metadata": {},
   "outputs": [
    {
     "data": {
      "text/html": [
       "<div>\n",
       "<style scoped>\n",
       "    .dataframe tbody tr th:only-of-type {\n",
       "        vertical-align: middle;\n",
       "    }\n",
       "\n",
       "    .dataframe tbody tr th {\n",
       "        vertical-align: top;\n",
       "    }\n",
       "\n",
       "    .dataframe thead th {\n",
       "        text-align: right;\n",
       "    }\n",
       "</style>\n",
       "<table border=\"1\" class=\"dataframe\">\n",
       "  <thead>\n",
       "    <tr style=\"text-align: right;\">\n",
       "      <th></th>\n",
       "      <th>customer_id</th>\n",
       "      <th>invoice_count</th>\n",
       "      <th>invoice_year</th>\n",
       "      <th>invoice_month</th>\n",
       "    </tr>\n",
       "  </thead>\n",
       "  <tbody>\n",
       "    <tr>\n",
       "      <th>0</th>\n",
       "      <td>u15039</td>\n",
       "      <td>45</td>\n",
       "      <td>2011.0</td>\n",
       "      <td>1.0</td>\n",
       "    </tr>\n",
       "    <tr>\n",
       "      <th>1</th>\n",
       "      <td>u14606</td>\n",
       "      <td>57</td>\n",
       "      <td>2011.0</td>\n",
       "      <td>1.0</td>\n",
       "    </tr>\n",
       "    <tr>\n",
       "      <th>2</th>\n",
       "      <td>u1368</td>\n",
       "      <td>49</td>\n",
       "      <td>2011.0</td>\n",
       "      <td>1.0</td>\n",
       "    </tr>\n",
       "    <tr>\n",
       "      <th>3</th>\n",
       "      <td>u13253</td>\n",
       "      <td>16</td>\n",
       "      <td>2011.0</td>\n",
       "      <td>1.0</td>\n",
       "    </tr>\n",
       "    <tr>\n",
       "      <th>4</th>\n",
       "      <td>u15235</td>\n",
       "      <td>8</td>\n",
       "      <td>2011.0</td>\n",
       "      <td>1.0</td>\n",
       "    </tr>\n",
       "  </tbody>\n",
       "</table>\n",
       "</div>"
      ],
      "text/plain": [
       "  customer_id  invoice_count  invoice_year  invoice_month\n",
       "0      u15039             45        2011.0            1.0\n",
       "1      u14606             57        2011.0            1.0\n",
       "2       u1368             49        2011.0            1.0\n",
       "3      u13253             16        2011.0            1.0\n",
       "4      u15235              8        2011.0            1.0"
      ]
     },
     "execution_count": 37,
     "metadata": {},
     "output_type": "execute_result"
    }
   ],
   "source": [
    "# Using SQL query that does the following:\n",
    "# .counting the number of invoices for each customer in the year 2011 where the quantity is greater than 0.\n",
    "# .extracting the year, month, day, and hour from the 'invoice_date' column.\n",
    "\n",
    "query=\"\"\"select customer_id,\n",
    "                count('invoice') as invoice_count,\n",
    "                date_part('year',invoice_date) as invoice_year,\n",
    "                date_part('month',invoice_date)as invoice_month        \n",
    "        from bootcamp.online_transactions_cleaned otc\n",
    "        where invoice_year= 2011 and quantity>0\n",
    "        group by customer_id,invoice_year, invoice_month,invoice_date \n",
    "        order by invoice_year, invoice_month;\"\"\"\n",
    "\n",
    "# read the result into a Pandas DataFrame\n",
    "online_trans_time_dis= pd.read_sql(query,connect)\n",
    "## display the data\n",
    "online_trans_time_dis.round(0).head()"
   ]
  },
  {
   "cell_type": "code",
   "execution_count": 38,
   "id": "873ce5af",
   "metadata": {},
   "outputs": [
    {
     "data": {
      "text/plain": [
       "customer_id       object\n",
       "invoice_count      int64\n",
       "invoice_year     float64\n",
       "invoice_month    float64\n",
       "dtype: object"
      ]
     },
     "execution_count": 38,
     "metadata": {},
     "output_type": "execute_result"
    }
   ],
   "source": [
    "# Checking the data types\n",
    "online_trans_time_dis.dtypes"
   ]
  },
  {
   "cell_type": "code",
   "execution_count": 40,
   "id": "0fd575e4",
   "metadata": {},
   "outputs": [
    {
     "data": {
      "text/plain": [
       "customer_id      object\n",
       "invoice_count     int64\n",
       "invoice_year      int32\n",
       "invoice_month     int32\n",
       "dtype: object"
      ]
     },
     "execution_count": 40,
     "metadata": {},
     "output_type": "execute_result"
    }
   ],
   "source": [
    "#  converting some columns in the online_trans_time_dis DataFrame to integer types\n",
    "online_trans_time_dis['invoice_year']=online_trans_time_dis['invoice_year'].astype(int)\n",
    "online_trans_time_dis['invoice_month']=online_trans_time_dis['invoice_month'].astype(int)\n",
    "# checking the data types of the columns\n",
    "online_trans_time_dis.dtypes"
   ]
  },
  {
   "cell_type": "code",
   "execution_count": 41,
   "id": "f90ce8bb",
   "metadata": {},
   "outputs": [
    {
     "data": {
      "text/html": [
       "<div>\n",
       "<style scoped>\n",
       "    .dataframe tbody tr th:only-of-type {\n",
       "        vertical-align: middle;\n",
       "    }\n",
       "\n",
       "    .dataframe tbody tr th {\n",
       "        vertical-align: top;\n",
       "    }\n",
       "\n",
       "    .dataframe thead th {\n",
       "        text-align: right;\n",
       "    }\n",
       "</style>\n",
       "<table border=\"1\" class=\"dataframe\">\n",
       "  <thead>\n",
       "    <tr style=\"text-align: right;\">\n",
       "      <th></th>\n",
       "      <th>customer_id</th>\n",
       "      <th>invoice_count</th>\n",
       "      <th>invoice_year</th>\n",
       "      <th>invoice_month</th>\n",
       "    </tr>\n",
       "  </thead>\n",
       "  <tbody>\n",
       "    <tr>\n",
       "      <th>0</th>\n",
       "      <td>u15039</td>\n",
       "      <td>45</td>\n",
       "      <td>2011</td>\n",
       "      <td>1</td>\n",
       "    </tr>\n",
       "    <tr>\n",
       "      <th>1</th>\n",
       "      <td>u14606</td>\n",
       "      <td>57</td>\n",
       "      <td>2011</td>\n",
       "      <td>1</td>\n",
       "    </tr>\n",
       "    <tr>\n",
       "      <th>2</th>\n",
       "      <td>u1368</td>\n",
       "      <td>49</td>\n",
       "      <td>2011</td>\n",
       "      <td>1</td>\n",
       "    </tr>\n",
       "    <tr>\n",
       "      <th>3</th>\n",
       "      <td>u13253</td>\n",
       "      <td>16</td>\n",
       "      <td>2011</td>\n",
       "      <td>1</td>\n",
       "    </tr>\n",
       "    <tr>\n",
       "      <th>4</th>\n",
       "      <td>u15235</td>\n",
       "      <td>8</td>\n",
       "      <td>2011</td>\n",
       "      <td>1</td>\n",
       "    </tr>\n",
       "  </tbody>\n",
       "</table>\n",
       "</div>"
      ],
      "text/plain": [
       "  customer_id  invoice_count  invoice_year  invoice_month\n",
       "0      u15039             45          2011              1\n",
       "1      u14606             57          2011              1\n",
       "2       u1368             49          2011              1\n",
       "3      u13253             16          2011              1\n",
       "4      u15235              8          2011              1"
      ]
     },
     "execution_count": 41,
     "metadata": {},
     "output_type": "execute_result"
    }
   ],
   "source": [
    "# display the first five rows of the data\n",
    "online_trans_time_dis.head()"
   ]
  },
  {
   "cell_type": "code",
   "execution_count": 42,
   "id": "cde1b70a",
   "metadata": {},
   "outputs": [
    {
     "data": {
      "image/png": "[encoded data removed]",
      "text/plain": [
       "<Figure size 1500x800 with 1 Axes>"
      ]
     },
     "metadata": {},
     "output_type": "display_data"
    }
   ],
   "source": [
    "# Visualizing the results\n",
    "import matplotlib.pyplot as plt\n",
    "import seaborn as sns\n",
    "\n",
    "# Create a figure with a specified size\n",
    "fig = plt.figure(figsize = [15, 8])\n",
    "\n",
    "#create a bar plot \n",
    "sns.barplot(x ='invoice_month' , y = 'invoice_count', data = online_trans_time_dis, ci=None, palette=\"muted\") \n",
    "\n",
    "#Adds labels\n",
    "plt.xlabel(\"month\") \n",
    "plt.ylabel(\"invoice\")\n",
    "plt.title('distribution of invoices per month') \n",
    "\n",
    "#displays the plot.\n",
    "plt.show()\n"
   ]
  },
  {
   "cell_type": "markdown",
   "id": "3cbb6d51",
   "metadata": {},
   "source": [
    "#### We can deduce that the highest sales are in the months Sebtember, Oktober and November. In this Time the customers are preparing for Christmas."
   ]
  },
  {
   "cell_type": "markdown",
   "id": "6e6ba642",
   "metadata": {},
   "source": [
    "##### c. Distribution of invoices per weekdays"
   ]
  },
  {
   "cell_type": "code",
   "execution_count": 43,
   "id": "9464414e",
   "metadata": {},
   "outputs": [
    {
     "data": {
      "text/html": [
       "<div>\n",
       "<style scoped>\n",
       "    .dataframe tbody tr th:only-of-type {\n",
       "        vertical-align: middle;\n",
       "    }\n",
       "\n",
       "    .dataframe tbody tr th {\n",
       "        vertical-align: top;\n",
       "    }\n",
       "\n",
       "    .dataframe thead th {\n",
       "        text-align: right;\n",
       "    }\n",
       "</style>\n",
       "<table border=\"1\" class=\"dataframe\">\n",
       "  <thead>\n",
       "    <tr style=\"text-align: right;\">\n",
       "      <th></th>\n",
       "      <th>customer_id</th>\n",
       "      <th>invoice_count</th>\n",
       "      <th>invoice_date</th>\n",
       "      <th>invoice_day</th>\n",
       "      <th>daytimes</th>\n",
       "    </tr>\n",
       "  </thead>\n",
       "  <tbody>\n",
       "    <tr>\n",
       "      <th>0</th>\n",
       "      <td>u1785</td>\n",
       "      <td>7</td>\n",
       "      <td>2010-12-01 08:26:00</td>\n",
       "      <td>Wednesday</td>\n",
       "      <td>Morning</td>\n",
       "    </tr>\n",
       "    <tr>\n",
       "      <th>1</th>\n",
       "      <td>u1785</td>\n",
       "      <td>2</td>\n",
       "      <td>2010-12-01 08:28:00</td>\n",
       "      <td>Wednesday</td>\n",
       "      <td>Morning</td>\n",
       "    </tr>\n",
       "    <tr>\n",
       "      <th>2</th>\n",
       "      <td>u13047</td>\n",
       "      <td>16</td>\n",
       "      <td>2010-12-01 08:34:00</td>\n",
       "      <td>Wednesday</td>\n",
       "      <td>Morning</td>\n",
       "    </tr>\n",
       "    <tr>\n",
       "      <th>3</th>\n",
       "      <td>u13047</td>\n",
       "      <td>1</td>\n",
       "      <td>2010-12-01 08:35:00</td>\n",
       "      <td>Wednesday</td>\n",
       "      <td>Morning</td>\n",
       "    </tr>\n",
       "    <tr>\n",
       "      <th>4</th>\n",
       "      <td>u12583</td>\n",
       "      <td>19</td>\n",
       "      <td>2010-12-01 08:45:00</td>\n",
       "      <td>Wednesday</td>\n",
       "      <td>Morning</td>\n",
       "    </tr>\n",
       "  </tbody>\n",
       "</table>\n",
       "</div>"
      ],
      "text/plain": [
       "  customer_id  invoice_count        invoice_date invoice_day daytimes\n",
       "0       u1785              7 2010-12-01 08:26:00   Wednesday  Morning\n",
       "1       u1785              2 2010-12-01 08:28:00   Wednesday  Morning\n",
       "2      u13047             16 2010-12-01 08:34:00   Wednesday  Morning\n",
       "3      u13047              1 2010-12-01 08:35:00   Wednesday  Morning\n",
       "4      u12583             19 2010-12-01 08:45:00   Wednesday  Morning"
      ]
     },
     "execution_count": 43,
     "metadata": {},
     "output_type": "execute_result"
    }
   ],
   "source": [
    "query=\"\"\"SELECT\n",
    "    customer_id,\n",
    "    count('invoice') as invoice_count,    \n",
    "    invoice_date,\n",
    "    CASE\n",
    "        WHEN date_part('dow', invoice_date) = 1 THEN 'Monday'\n",
    "        WHEN date_part('dow', invoice_date) = 2 THEN 'Tuesday'\n",
    "        WHEN date_part('dow', invoice_date) = 3 THEN 'Wednesday'\n",
    "        WHEN date_part('dow', invoice_date) = 4 THEN 'Thursday'\n",
    "        WHEN date_part('dow', invoice_date) = 5 THEN 'Friday'\n",
    "        WHEN date_part('dow', invoice_date) = 6 THEN 'Saturday'\n",
    "        WHEN date_part('dow', invoice_date) = 0 THEN 'Sunday'\n",
    "        ELSE 'Unknown'\n",
    "    END AS invoice_day,\n",
    "    CASE\n",
    "        WHEN EXTRACT(HOUR FROM invoice_date) < 12 THEN 'Morning'\n",
    "        ELSE 'Evening'\n",
    "    END AS Daytimes\n",
    "FROM bootcamp.online_transactions_cleaned otc\n",
    "group by customer_id,invoice_date \n",
    "order by invoice_date ;\"\"\"\n",
    "# read the result into a Pandas DataFrame\n",
    "online_trans_day_dis= pd.read_sql(query,connect)\n",
    "## display the data\n",
    "online_trans_day_dis.round(0).head()\n"
   ]
  },
  {
   "cell_type": "code",
   "execution_count": 44,
   "id": "a285a708",
   "metadata": {},
   "outputs": [
    {
     "data": {
      "image/png": "[encoded data removed]",
      "text/plain": [
       "<Figure size 2000x1000 with 1 Axes>"
      ]
     },
     "metadata": {},
     "output_type": "display_data"
    }
   ],
   "source": [
    "import matplotlib.pyplot as plt\n",
    "import seaborn as sns\n",
    "fig = plt.figure(figsize = [20, 10]) \n",
    "\n",
    "sns.barplot(x =('invoice_day') , y = 'invoice_count', data = online_trans_day_dis, ci=None,palette=\"muted\") \n",
    "# height: scalar- Height (in inches) of each facet. \n",
    "\n",
    "plt.xlabel(\"day\") \n",
    "plt.ylabel(\"invoice\")\n",
    "plt.title('distribution of invoices per weekday') \n",
    "\n",
    "plt.show()"
   ]
  },
  {
   "cell_type": "markdown",
   "id": "db2abda8",
   "metadata": {},
   "source": [
    "##### d. Distribution of invoices per daytimes"
   ]
  },
  {
   "cell_type": "code",
   "execution_count": 47,
   "id": "a0964df7",
   "metadata": {},
   "outputs": [
    {
     "data": {
      "image/png": "[encoded data removed]",
      "text/plain": [
       "<Figure size 2000x1000 with 1 Axes>"
      ]
     },
     "metadata": {},
     "output_type": "display_data"
    }
   ],
   "source": [
    "import matplotlib.pyplot as plt\n",
    "import seaborn as sns\n",
    "fig = plt.figure(figsize = [20, 10]) \n",
    "\n",
    "sns.barplot(x =('daytimes') , y = 'invoice_count', data = online_trans_day_dis, ci=None,palette=\"muted\") \n",
    "\n",
    "\n",
    "plt.xlabel(\"daytimes\") \n",
    "plt.ylabel(\"invoice\")\n",
    "plt.title('distribution of invoices per daytimes') \n",
    "\n",
    "plt.show()"
   ]
  },
  {
   "cell_type": "markdown",
   "id": "95c3bc70",
   "metadata": {},
   "source": [
    "#### we deduced also that the highest sales were recorded in the evenings of every day, espacially on Sundays."
   ]
  }
 ],
 "metadata": {
  "kernelspec": {
   "display_name": "Python 3 (ipykernel)",
   "language": "python",
   "name": "python3"
  },
  "language_info": {
   "codemirror_mode": {
    "name": "ipython",
    "version": 3
   },
   "file_extension": ".py",
   "mimetype": "text/x-python",
   "name": "python",
   "nbconvert_exporter": "python",
   "pygments_lexer": "ipython3",
   "version": "3.9.13"
  }
 },
 "nbformat": 4,
 "nbformat_minor": 5
}
